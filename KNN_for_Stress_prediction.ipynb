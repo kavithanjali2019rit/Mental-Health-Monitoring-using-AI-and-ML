{
  "cells": [
    {
      "cell_type": "markdown",
      "metadata": {
        "id": "view-in-github",
        "colab_type": "text"
      },
      "source": [
        "<a href=\"https://colab.research.google.com/github/kavithanjali2019rit/Mental-Health-Monitoring-using-AI-and-ML/blob/main/KNN_for_Stress_prediction.ipynb\" target=\"_parent\"><img src=\"https://colab.research.google.com/assets/colab-badge.svg\" alt=\"Open In Colab\"/></a>"
      ]
    },
    {
      "cell_type": "code",
      "execution_count": null,
      "metadata": {
        "id": "qT5vBcKWzLNw"
      },
      "outputs": [],
      "source": [
        "import numpy as np\n",
        "import pandas as pd\n",
        "from sklearn import datasets, svm, metrics\n",
        "import matplotlib.pyplot as plt"
      ]
    },
    {
      "cell_type": "code",
      "execution_count": null,
      "metadata": {
        "colab": {
          "base_uri": "https://localhost:8080/"
        },
        "id": "K5gupqIJzs6r",
        "outputId": "adfbc497-3736-4329-fba5-e176beb3a354"
      },
      "outputs": [
        {
          "name": "stdout",
          "output_type": "stream",
          "text": [
            "Mounted at /content/drive\n"
          ]
        }
      ],
      "source": [
        "from google.colab import drive\n",
        "drive.mount('/content/drive')"
      ]
    },
    {
      "cell_type": "code",
      "execution_count": null,
      "metadata": {
        "id": "jJLVRZoL1Q7o"
      },
      "outputs": [],
      "source": [
        "trainFile = pd.read_csv('/content/drive/MyDrive/train.csv').drop(columns=\"datasetId\")\n",
        "testFile = pd.read_csv('/content/drive/MyDrive/test.csv').drop(columns=\"datasetId\")"
      ]
    },
    {
      "cell_type": "code",
      "execution_count": null,
      "metadata": {
        "id": "YpMreyrz9GUF"
      },
      "outputs": [],
      "source": [
        "X_train = trainFile.drop(columns='condition')\n",
        "y_train = trainFile['condition']\n",
        "X_test = testFile.drop(columns='condition')\n",
        "y_test = testFile['condition']"
      ]
    },
    {
      "cell_type": "code",
      "execution_count": null,
      "metadata": {
        "colab": {
          "background_save": true
        },
        "id": "-2QMv7PM9Lsy",
        "outputId": "46cf3951-3ee1-4dc6-ea1b-8c0e57cd8381"
      },
      "outputs": [
        {
          "name": "stdout",
          "output_type": "stream",
          "text": [
            "Accuracy of K-NN classifier on training set: 1.00\n",
            "Accuracy of K-NN classifier on test set: 0.99\n"
          ]
        }
      ],
      "source": [
        "from sklearn.neighbors import KNeighborsClassifier\n",
        "knn = KNeighborsClassifier()\n",
        "knn.fit(X_train, y_train)\n",
        "print('Accuracy of K-NN classifier on training set: {:.2f}'\n",
        "     .format(knn.score(X_train, y_train)))\n",
        "print('Accuracy of K-NN classifier on test set: {:.2f}'\n",
        "     .format(knn.score(X_test, y_test)))"
      ]
    },
    {
      "cell_type": "code",
      "execution_count": null,
      "metadata": {
        "colab": {
          "background_save": true
        },
        "id": "yg1BzV40RoGb",
        "outputId": "94bf5f14-8335-41db-a5b2-e3fce7116086"
      },
      "outputs": [
        {
          "name": "stderr",
          "output_type": "stream",
          "text": [
            "/usr/local/lib/python3.8/dist-packages/sklearn/base.py:450: UserWarning: X does not have valid feature names, but KNeighborsClassifier was fitted with feature names\n",
            "  warnings.warn(\n"
          ]
        },
        {
          "data": {
            "text/plain": [
              "array(['time pressure'], dtype=object)"
            ]
          },
          "execution_count": 9,
          "metadata": {},
          "output_type": "execute_result"
        }
      ],
      "source": [
        "i=1\n",
        "knn.predict([X_test.iloc[i]])"
      ]
    },
    {
      "cell_type": "code",
      "execution_count": null,
      "metadata": {
        "colab": {
          "background_save": true
        },
        "id": "TF7RxwAARvyP",
        "outputId": "c2446ad0-e422-4532-d15b-bdb7768ca3e2"
      },
      "outputs": [
        {
          "name": "stdout",
          "output_type": "stream",
          "text": [
            "MEAN_RR               843.538633\n",
            "MEDIAN_RR             844.407930\n",
            "SDRR                   58.499429\n",
            "RMSSD                  19.298880\n",
            "SDSD                   19.298795\n",
            "SDRR_RMSSD              3.031234\n",
            "HR                     71.478642\n",
            "pNN25                  21.000000\n",
            "pNN50                   0.200000\n",
            "SD1                    13.650863\n",
            "SD2                    81.596693\n",
            "KURT                   -0.445806\n",
            "SKEW                   -0.144911\n",
            "MEAN_REL_RR             0.000061\n",
            "MEDIAN_REL_RR          -0.001543\n",
            "SDRR_REL_RR             0.022969\n",
            "RMSSD_REL_RR            0.011970\n",
            "SDSD_REL_RR             0.011970\n",
            "SDRR_RMSSD_REL_RR       1.918953\n",
            "KURT_REL_RR            -0.445806\n",
            "SKEW_REL_RR            -0.144911\n",
            "VLF                   765.518473\n",
            "VLF_PCT                32.452560\n",
            "LF                   1566.866135\n",
            "LF_PCT                 66.424024\n",
            "LF_NU                  98.336849\n",
            "HF                     26.500086\n",
            "HF_PCT                  1.123416\n",
            "HF_NU                   1.663151\n",
            "TP                   2358.884694\n",
            "LF_HF                  59.126832\n",
            "HF_LF                   0.016913\n",
            "sampen                  2.217275\n",
            "higuci                  1.250056\n",
            "Name: 1, dtype: float64\n"
          ]
        }
      ],
      "source": [
        "print(X_test.iloc[i])\n"
      ]
    }
  ],
  "metadata": {
    "colab": {
      "provenance": [],
      "include_colab_link": true
    },
    "kernelspec": {
      "display_name": "Python 3",
      "name": "python3"
    },
    "language_info": {
      "name": "python"
    }
  },
  "nbformat": 4,
  "nbformat_minor": 0
}