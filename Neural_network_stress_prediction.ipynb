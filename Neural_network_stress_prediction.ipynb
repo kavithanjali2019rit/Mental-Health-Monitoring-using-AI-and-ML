{
  "nbformat": 4,
  "nbformat_minor": 0,
  "metadata": {
    "colab": {
      "provenance": [],
      "include_colab_link": true
    },
    "kernelspec": {
      "name": "python3",
      "display_name": "Python 3"
    },
    "language_info": {
      "name": "python"
    }
  },
  "cells": [
    {
      "cell_type": "markdown",
      "metadata": {
        "id": "view-in-github",
        "colab_type": "text"
      },
      "source": [
        "<a href=\"https://colab.research.google.com/github/kavithanjali2019rit/Mental-Health-Monitoring-using-AI-and-ML/blob/main/Neural_network_stress_prediction.ipynb\" target=\"_parent\"><img src=\"https://colab.research.google.com/assets/colab-badge.svg\" alt=\"Open In Colab\"/></a>"
      ]
    },
    {
      "cell_type": "code",
      "execution_count": null,
      "metadata": {
        "id": "2Rlk1IxLRYLv"
      },
      "outputs": [],
      "source": [
        "#math/data libs\n",
        "import numpy as np\n",
        "import pandas as pd\n",
        "from sklearn.preprocessing import MinMaxScaler\n",
        "from sklearn.preprocessing import OneHotEncoder\n",
        "\n",
        "#ml libs\n",
        "import keras\n",
        "from keras import backend as K\n",
        "from keras.models import Sequential\n",
        "from keras. layers import Activation\n",
        "from keras.layers.core import Dense\n",
        "from keras.optimizers import Adam\n",
        "from keras.metrics import categorical_crossentropy\n",
        "from keras.utils import to_categorical\n",
        ""
      ]
    },
    {
      "cell_type": "code",
      "source": [
        "from google.colab import drive\n",
        "drive.mount('/content/drive')"
      ],
      "metadata": {
        "colab": {
          "base_uri": "https://localhost:8080/"
        },
        "id": "qAHo7HU-Rnno",
        "outputId": "d946d497-f87c-423b-cfa9-bbbf538f82c5"
      },
      "execution_count": null,
      "outputs": [
        {
          "output_type": "stream",
          "name": "stdout",
          "text": [
            "Mounted at /content/drive\n"
          ]
        }
      ]
    },
    {
      "cell_type": "code",
      "source": [
        "trainFile = pd.read_csv('/content/drive/MyDrive/train.csv').drop(columns=\"datasetId\")\n",
        "testFile = pd.read_csv('/content/drive/MyDrive/test.csv').drop(columns=\"datasetId\")"
      ],
      "metadata": {
        "id": "y4hsAcQnR4Oh"
      },
      "execution_count": null,
      "outputs": []
    },
    {
      "cell_type": "code",
      "source": [
        "#train\n",
        "train_samples = trainFile.drop(columns='condition').to_numpy()\n",
        "train_labels = trainFile['condition'].to_numpy()\n",
        "\n",
        "#test\n",
        "test_samples = testFile.drop(columns='condition').to_numpy()\n",
        "test_labels = testFile['condition'].to_numpy()"
      ],
      "metadata": {
        "id": "uP6czRtrSNsp"
      },
      "execution_count": null,
      "outputs": []
    },
    {
      "cell_type": "code",
      "source": [
        "#normalizing features\n",
        "scaler = MinMaxScaler(feature_range=(0,1))\n",
        "train_samples = scaler.fit_transform(train_samples)\n",
        "test_samples = scaler.fit_transform(test_samples)\n",
        "\n",
        "#one-hot-encoding labels\n",
        "one_hot_encoder = OneHotEncoder(categories='auto')\n",
        "train_labels = one_hot_encoder.fit_transform(train_labels.reshape(-1, 1)).toarray()\n",
        "test_labels = one_hot_encoder.fit_transform(test_labels.reshape(-1, 1)).toarray()\n",
        ""
      ],
      "metadata": {
        "id": "qMzjFfuQSS1U"
      },
      "execution_count": null,
      "outputs": []
    },
    {
      "cell_type": "code",
      "source": [
        "#build the model\n",
        "model = Sequential([\n",
        "    Dense(34, input_shape=[34,], activation='relu'),\n",
        "#     Dense(20, activation='relu'),\n",
        "    Dense(10, activation='relu'),\n",
        "    Dense(3, activation='softmax')\n",
        "])\n",
        ""
      ],
      "metadata": {
        "id": "SFU1P0uoSbsf"
      },
      "execution_count": null,
      "outputs": []
    },
    {
      "cell_type": "code",
      "source": [
        "model.summary()"
      ],
      "metadata": {
        "colab": {
          "base_uri": "https://localhost:8080/"
        },
        "id": "JSp55LMPSd0f",
        "outputId": "8f8b3471-ae1f-4c2b-b64f-7731d264f930"
      },
      "execution_count": null,
      "outputs": [
        {
          "output_type": "stream",
          "name": "stdout",
          "text": [
            "Model: \"sequential\"\n",
            "_________________________________________________________________\n",
            " Layer (type)                Output Shape              Param #   \n",
            "=================================================================\n",
            " dense (Dense)               (None, 34)                1190      \n",
            "                                                                 \n",
            " dense_1 (Dense)             (None, 10)                350       \n",
            "                                                                 \n",
            " dense_2 (Dense)             (None, 3)                 33        \n",
            "                                                                 \n",
            "=================================================================\n",
            "Total params: 1,573\n",
            "Trainable params: 1,573\n",
            "Non-trainable params: 0\n",
            "_________________________________________________________________\n"
          ]
        }
      ]
    },
    {
      "cell_type": "code",
      "source": [
        "model.compile(Adam(lr=.0001),\n",
        "              loss='categorical_crossentropy',\n",
        "              metrics=['accuracy'])"
      ],
      "metadata": {
        "colab": {
          "base_uri": "https://localhost:8080/"
        },
        "id": "nM6y_uy8ShpB",
        "outputId": "296081da-306f-4b87-e16b-d322c01b4d17"
      },
      "execution_count": null,
      "outputs": [
        {
          "output_type": "stream",
          "name": "stderr",
          "text": [
            "/usr/local/lib/python3.8/dist-packages/keras/optimizers/optimizer_v2/adam.py:117: UserWarning: The `lr` argument is deprecated, use `learning_rate` instead.\n",
            "  super().__init__(name, **kwargs)\n"
          ]
        }
      ]
    },
    {
      "cell_type": "code",
      "source": [
        "model.fit(train_samples, train_labels, validation_split=0.1, batch_size=10, epochs=3, shuffle=True, verbose=2)\n"
      ],
      "metadata": {
        "colab": {
          "base_uri": "https://localhost:8080/"
        },
        "id": "gdUWbsEMSrnI",
        "outputId": "93cc7fd7-2abe-43b6-b388-a568b0688f7d"
      },
      "execution_count": null,
      "outputs": [
        {
          "output_type": "stream",
          "name": "stdout",
          "text": [
            "Epoch 1/3\n",
            "33236/33236 - 68s - loss: 0.8471 - accuracy: 0.6257 - val_loss: 0.7767 - val_accuracy: 0.6597 - 68s/epoch - 2ms/step\n",
            "Epoch 2/3\n",
            "33236/33236 - 64s - loss: 0.7290 - accuracy: 0.6851 - val_loss: 0.6843 - val_accuracy: 0.7147 - 64s/epoch - 2ms/step\n",
            "Epoch 3/3\n",
            "33236/33236 - 67s - loss: 0.6506 - accuracy: 0.7234 - val_loss: 0.6145 - val_accuracy: 0.7422 - 67s/epoch - 2ms/step\n"
          ]
        },
        {
          "output_type": "execute_result",
          "data": {
            "text/plain": [
              "<keras.callbacks.History at 0x7f1b4c3ef400>"
            ]
          },
          "metadata": {},
          "execution_count": 9
        }
      ]
    },
    {
      "cell_type": "code",
      "source": [
        "model.save('model.h5')\n"
      ],
      "metadata": {
        "id": "ys9WXgECUuQf"
      },
      "execution_count": null,
      "outputs": []
    },
    {
      "cell_type": "code",
      "source": [
        "model.predict(test_samples)\n"
      ],
      "metadata": {
        "colab": {
          "base_uri": "https://localhost:8080/"
        },
        "id": "5GYkRFuiUwCF",
        "outputId": "a035579c-bee6-41a0-a4e7-815b21bf29d8"
      },
      "execution_count": null,
      "outputs": [
        {
          "output_type": "stream",
          "name": "stdout",
          "text": [
            "1283/1283 [==============================] - 2s 2ms/step\n"
          ]
        },
        {
          "output_type": "execute_result",
          "data": {
            "text/plain": [
              "array([[0.27504498, 0.6286729 , 0.09628202],\n",
              "       [0.6586636 , 0.3149443 , 0.02639202],\n",
              "       [0.12471793, 0.8390388 , 0.03624317],\n",
              "       ...,\n",
              "       [0.09828047, 0.26921844, 0.632501  ],\n",
              "       [0.24412419, 0.6418489 , 0.11402691],\n",
              "       [0.21618675, 0.6686776 , 0.11513567]], dtype=float32)"
            ]
          },
          "metadata": {},
          "execution_count": 11
        }
      ]
    },
    {
      "cell_type": "code",
      "source": [
        "test_samples"
      ],
      "metadata": {
        "colab": {
          "base_uri": "https://localhost:8080/"
        },
        "id": "0zv-5EotU2YY",
        "outputId": "d19a67ee-a7df-4257-9e09-404346e97d6d"
      },
      "execution_count": null,
      "outputs": [
        {
          "output_type": "execute_result",
          "data": {
            "text/plain": [
              "array([[0.22531332, 0.18486409, 0.08844309, ..., 0.26053516, 0.92367922,\n",
              "        0.64162156],\n",
              "       [0.38244367, 0.28799639, 0.0581626 , ..., 0.04047566, 0.99034621,\n",
              "        0.66112158],\n",
              "       [0.53098161, 0.39563865, 0.19693847, ..., 0.0183135 , 0.99026903,\n",
              "        0.33885214],\n",
              "       ...,\n",
              "       [0.18331272, 0.12845198, 0.19874266, ..., 0.27243779, 0.91292724,\n",
              "        0.55324208],\n",
              "       [0.27636484, 0.21461972, 0.062443  , ..., 0.17858342, 0.97595153,\n",
              "        0.61357042],\n",
              "       [0.41409514, 0.31321216, 0.06339303, ..., 0.03413039, 0.9491316 ,\n",
              "        0.33185303]])"
            ]
          },
          "metadata": {},
          "execution_count": 12
        }
      ]
    },
    {
      "cell_type": "code",
      "source": [],
      "metadata": {
        "id": "D9lUmNA6U_YU"
      },
      "execution_count": null,
      "outputs": []
    }
  ]
}